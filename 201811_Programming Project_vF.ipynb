{
 "cells": [
  {
   "cell_type": "markdown",
   "metadata": {},
   "source": [
    "# Apppendix A: Computer Code and Results"
   ]
  },
  {
   "cell_type": "code",
   "execution_count": 1,
   "metadata": {},
   "outputs": [],
   "source": [
    "# Import libraries  \n",
    "import numpy as np\n",
    "import pandas as pd"
   ]
  },
  {
   "cell_type": "markdown",
   "metadata": {},
   "source": [
    "# 1) Edit Distance"
   ]
  },
  {
   "cell_type": "code",
   "execution_count": 2,
   "metadata": {},
   "outputs": [],
   "source": [
    "# Using matrix dynamic programming, define a function which given string 1, string 2, \n",
    "# the substitution cost, the deletion cost and the insertion cost, we calculate the edit distance\n",
    "def edit_distance(string1, string2, sub_cost=1, del_cost=1, ins_cost=1):\n",
    "    # Construct an initial m x n matrix containing zeros\n",
    "    m = len(string1) + 1; n = len(string2) + 1; matrix = np.zeros((m, n))\n",
    "    # Fill the matrix for the base case, where one input string is the empty string\n",
    "    matrix[::,0] = [x * del_cost for x in range(m)]\n",
    "    matrix[0,::] = [y * ins_cost for y in range(n)]\n",
    "    # Iterate over range n and for each m skipping the first value, e.g. the empty string case\n",
    "    for x in range(1, m): \n",
    "        for y in range(1, n):\n",
    "            # If the letters do not match, select the operation with the minimum cost\n",
    "            sub = sub_cost if string1[x-1] != string2[y-1] else 0\n",
    "            matrix[x,y] = min(matrix[x-1, y-1] + sub, matrix[x-1, y] + del_cost, matrix[x, y-1] + ins_cost)\n",
    "    distance = int(matrix[m - 1, n - 1])\n",
    "    # Recover the type of operations performed by examination of the path within the matrix\n",
    "    # from the bottom right [m,n] to the upper left [0,0]\n",
    "    row = m-1; column = n-1; operations = []\n",
    "    while not ((row == 0) and (column == 0)):\n",
    "        # If we haven't reached the first row or the first column\n",
    "        if (row != 0) & (column != 0): \n",
    "            # Value of left cell is smaller than the cell above and diagonal, shift left \n",
    "            if (matrix[row,column-1] + ins_cost < matrix[row-1,column] + del_cost) \\\n",
    "            & (matrix[row,column-1] + ins_cost < matrix[row-1,column-1] + sub_cost): \n",
    "                column = column-1; operations.append('I')\n",
    "            # Value of above cell is smaller than cell to the left and diagonal, shift upward\n",
    "            elif (matrix[row-1,column] + del_cost < matrix[row,column-1] + ins_cost) \\\n",
    "            & (matrix[row-1,column] + del_cost < matrix[row-1,column-1] + sub_cost): \n",
    "                row = row-1; operations.append('D')\n",
    "            # Value of diagonal cell is smaller or equal than the cell left and above, shift diagonal\n",
    "            elif (matrix[row-1,column-1] + sub_cost <= matrix[row,column-1] + ins_cost) \\\n",
    "            & (matrix[row-1,column-1] + sub_cost <= matrix[row-1,column] + del_cost): \n",
    "                if matrix[row-1,column-1] == matrix[row,column] - sub_cost: \n",
    "                    row = row-1; column = column-1; operations.append('S')\n",
    "                else: \n",
    "                    row = row-1; column = column-1; operations.append('-')\n",
    "        # If we have reached to the first row, shift left\n",
    "        elif column != 0: \n",
    "            column = column-1; operations.append('I')\n",
    "        # If we have reached to the first column, shift upwards\n",
    "        else: \n",
    "            row = row-1; operations.append('D')\n",
    "    operations = list(reversed(operations))\n",
    "    return distance, operations"
   ]
  },
  {
   "cell_type": "code",
   "execution_count": 3,
   "metadata": {},
   "outputs": [],
   "source": [
    "# First test: DNA\n",
    "X = \"ACTACTAGATTACTTACGGATCAGGTACTTTAGAGGCTTGCAACCA\"\n",
    "Y = \"TACTAGCTTACTTACCCATCAGGTTTTAGAGATGGCAACCA\""
   ]
  },
  {
   "cell_type": "code",
   "execution_count": 4,
   "metadata": {},
   "outputs": [
    {
     "name": "stdout",
     "output_type": "stream",
     "text": [
      "Edit distance without penalty:  10\n",
      "Optimal sequence without penalty:  ['D', 'D', '-', '-', '-', '-', '-', '-', 'S', '-', '-', '-', '-', '-', '-', '-', '-', 'S', 'S', '-', '-', '-', '-', '-', '-', '-', 'D', 'D', '-', '-', '-', '-', '-', '-', '-', 'D', 'S', '-', 'S', '-', '-', '-', '-', '-', '-', '-']\n"
     ]
    }
   ],
   "source": [
    "# Print the results from DNA without penalty\n",
    "distance, operations = edit_distance(X,Y)\n",
    "print('Edit distance without penalty: ', distance)\n",
    "print ('Optimal sequence without penalty: ', operations)"
   ]
  },
  {
   "cell_type": "code",
   "execution_count": 5,
   "metadata": {},
   "outputs": [
    {
     "name": "stdout",
     "output_type": "stream",
     "text": [
      "Edit distance with penalty:  15\n",
      "Optimal sequence with penalty:  ['D', 'D', '-', '-', '-', '-', '-', '-', 'S', '-', '-', '-', '-', '-', '-', '-', '-', 'S', 'S', '-', '-', '-', '-', '-', '-', '-', 'D', 'D', '-', '-', '-', '-', '-', '-', '-', 'D', 'S', '-', 'S', '-', '-', '-', '-', '-', '-', '-']\n"
     ]
    }
   ],
   "source": [
    "# Print the results from DNA with penalty\n",
    "distance, operations = edit_distance(X,Y,1,2,2)\n",
    "print('Edit distance with penalty: ', distance)\n",
    "print ('Optimal sequence with penalty: ', operations)"
   ]
  },
  {
   "cell_type": "code",
   "execution_count": 6,
   "metadata": {},
   "outputs": [],
   "source": [
    "# Second test: Proteins\n",
    "X = \"AASRPRSGVPAQSDSDPCQNLAATPIPSRPPSSQSCQKCRADARQGRWGP\"\n",
    "Y = \"SGAPGQRGEPGPQGHAGAPGPPGPPGSDG\""
   ]
  },
  {
   "cell_type": "code",
   "execution_count": 7,
   "metadata": {},
   "outputs": [
    {
     "name": "stdout",
     "output_type": "stream",
     "text": [
      "Edit distance without penalty:  37\n",
      "Optimal sequence without penalty:  ['D', 'D', '-', 'D', 'D', 'D', 'D', '-', 'S', '-', 'S', '-', 'S', 'S', 'S', 'S', 'S', 'S', '-', 'S', 'S', '-', 'S', 'S', '-', 'S', '-', 'S', 'S', '-', '-', 'S', '-', 'D', 'D', 'D', 'D', 'D', 'D', 'D', 'D', '-', 'D', 'D', 'D', '-', 'D', 'D', 'D', 'D']\n"
     ]
    }
   ],
   "source": [
    "# Print the results from Proteins without penalty\n",
    "distance, operations = edit_distance(X,Y)\n",
    "print('Edit distance without penalty: ', distance)\n",
    "print ('Optimal sequence without penalty: ', operations)"
   ]
  },
  {
   "cell_type": "code",
   "execution_count": 8,
   "metadata": {},
   "outputs": [
    {
     "name": "stdout",
     "output_type": "stream",
     "text": [
      "Edit distance with penalty:  58\n",
      "Optimal sequence with penalty:  ['D', 'D', '-', 'D', 'D', 'D', 'D', '-', 'S', '-', 'S', '-', 'S', 'S', 'S', 'S', 'S', 'S', '-', 'S', 'S', '-', 'S', 'S', '-', 'S', '-', 'S', 'S', '-', '-', 'S', '-', 'D', 'D', 'D', 'D', 'D', 'D', 'D', 'D', '-', 'D', 'D', 'D', '-', 'D', 'D', 'D', 'D']\n"
     ]
    }
   ],
   "source": [
    "# Print the results from Proteins with penalty\n",
    "distance, operations = edit_distance(X,Y,1,2,2)\n",
    "print('Edit distance with penalty: ', distance)\n",
    "print ('Optimal sequence with penalty: ', operations)"
   ]
  },
  {
   "cell_type": "markdown",
   "metadata": {},
   "source": [
    "# 2) Huffman codes"
   ]
  },
  {
   "cell_type": "code",
   "execution_count": 9,
   "metadata": {},
   "outputs": [],
   "source": [
    "# Function to explore the Huffman tree and extract the corresponding binary code recursivly\n",
    "def assign_code(nodes, label, result, prefix = ''): \n",
    "    childs = nodes[label]; tree = {}\n",
    "    # As long as there are 2 children below one node explore the Huffman tree recursively\n",
    "    if len(childs) == 2: \n",
    "        tree['0'] = assign_code(nodes, childs[0], result, prefix+'0')\n",
    "        tree['1'] = assign_code(nodes, childs[1], result, prefix+'1')\n",
    "        return tree\n",
    "    # If there are no children return the binary prefix code for this elementary node\n",
    "    else:\n",
    "        result[label] = prefix \n",
    "        return label"
   ]
  },
  {
   "cell_type": "code",
   "execution_count": 10,
   "metadata": {},
   "outputs": [],
   "source": [
    "# Encode a specific text T in binary format\n",
    "def get_prefix(T):\n",
    "    nodes = {};code = {};tree = {}\n",
    "    T = T.lower() \n",
    "    alphabet = list(set(T)) \n",
    "    freq = {x : T.count(x) for x in alphabet} \n",
    "    for n in freq.keys(): \n",
    "        # Initialize nodes for all items in the alphabet with no children\n",
    "        nodes[n] = []\n",
    "    while len(freq) > 1: \n",
    "        # Sort the dictionary by values\n",
    "        val = sorted(freq.items(), key=lambda x:x[1]) \n",
    "        # Extract keys with the two lowest value in the frequency dictionary\n",
    "        v1 = val[0][0] \n",
    "        v2 = val[1][0] \n",
    "        # Update frequency dictionary: remove entries with the two lowest values, add value for new node\n",
    "        freq[v1 + v2] = freq.pop(v1) + freq.pop(v2) \n",
    "        # add newly created node with the corresponding two children\n",
    "        nodes[v1 + v2] = [v1, v2] \n",
    "    # Set root node for the start of the analysis of the hoffman tree\n",
    "    root = v1 + v2\n",
    "    # Call function to recursivly extract the codes and the tree\n",
    "    tree = assign_code(nodes, root, code)\n",
    "    return ''.join([code[char] for char in T]), code, tree, {x : T.count(x) for x in alphabet} "
   ]
  },
  {
   "cell_type": "code",
   "execution_count": 11,
   "metadata": {},
   "outputs": [],
   "source": [
    "# Decode a specific text T from binary format\n",
    "def get_T(binary, tree):\n",
    "    decoded = []; i = 0\n",
    "    # Check the tree key elements of the dictionry by adding binarys from the prefix iteratively\n",
    "    while i < len(binary):\n",
    "        ch = binary[i]  \n",
    "        act = tree[ch]\n",
    "        while not isinstance(act, str):\n",
    "            i += 1\n",
    "            ch = binary[i]  \n",
    "            act = act[ch]        \n",
    "        # If the value element of the tree dictionary is a character append it to the solution\n",
    "        decoded.append(act);i += 1\n",
    "    return ''.join(decoded)"
   ]
  },
  {
   "cell_type": "code",
   "execution_count": 12,
   "metadata": {
    "scrolled": true
   },
   "outputs": [],
   "source": [
    "# First input text\n",
    "Hamlet = 'O all you host of heaven! O earth! What else? And shall I couple hell? Oh, fie! Hold, hold, my heart, \\\n",
    "And you, my sinews, grow not instant old, But bear me stiffly up. Remember thee! Ay, thou poor ghost, whiles \\\n",
    "memory holds a seat In this distracted globe. Remember thee! Yea, from the table of my memory I’ll wipe away all \\\n",
    "trivial fond records, All saws of books, all forms, all pressures past That youth and observation copied there, \\\n",
    "And thy commandment all alone shall live Within the book and volume of my brain, Unmixed with baser matter. \\\n",
    "Yes, by heaven! O most pernicious woman! O villain, villain, smiling, damned villain! My tables! Meet it is I \\\n",
    "set it down That one may smile, and smile, and be a villain. At least I’m sure it may be so in Denmark. So, \\\n",
    "uncle, there you are. Now to my word.'"
   ]
  },
  {
   "cell_type": "code",
   "execution_count": 13,
   "metadata": {
    "scrolled": false
   },
   "outputs": [
    {
     "data": {
      "text/plain": [
       "'1001001011100010000001001100110101000110001001111110110001001010000001100011101011010001111011110110101100100100111010111100101101100011010110010100111000101101100011101000111111110101000000010111111001110001111111000101110001000000101001010001100110101011010101000111000110001110100010001010000000100111000011110001000001011110110101100110001001100001110011110011000100110000111001111001101101001001100011101011110010110011110010111111001110000100110011010100111100110110100100111110101111101110101001111110111100101011111100110011010010011110100101100001011111011111011010111111001100010011000011100111100110100101010011000110100111010111100100110111110001111101100101010000010000100001001001010101101010101011000110011110110111110110111101001110110010001101100011101110110101100101101001011110001101100010011010100011010101001100111001001010111111000100111111011001111001010011100001011000111011111001101111101101110011100101001001100010011000011101111100101100111111110101101100001011111000011011000010111111000111001011111101101100110111010001011011100111000101011111000100111010011101010110001100111101101111101101111010011101100100011011000111011101101011000100111101011011110001000011001100111011000110110001110000110101111010010001110001001010000001101101001001101111101101110011100101001000101101011101100010000010100101011101010111000101110100110110100100101110001000000110110010101010001010110111000000100001001111100111000110011110101000110011100101110111110111100101110001000001111110111010011111100100101000000110100100110011010000111111011110010111000100000010000100111001110111111101111001011100010000011010101100111101111111111101010110011110111110011010101011111110110000110110001011011000010011001101010011011000001011111100111000100111010011111111011001010001101101100101100111110001010001100111010100101111001110000110110001110110011110011110010111111001110000110110000100100101000110011101111011101111110011101101111101111001100010111000100000101110001001111101110001111111000101110001000001000010101000111100010100101010110110000101111100001101100011100011010010011001101000010010111111001110000100011001100010101011011111000100101000000110110100100110100110011011010111110011110010101011110110110101101011100111001110001010010101011011000001101001011111111110110010011011101101100110111011001101011000010011110111110111100110100010010011000111010110100011110111101101011001001001101110011111101100011010101110110011111001011010001010110011010101111100101001100111011101111110110101100100100010001010110001000101101011111001111000100010101100010001011010111110011110011111110110101100001011111010101111011110001110101111011111101110011100001000101011000100010110101111101101011001101101001000110101111010010001110111111101011001101111101110011000010101100001011111100010100111111110011000010101100001110100110100111110000110110001011011000100111110111000110111011010010011111110110101100011100111100101111110011100011111110110101100011100111100101111110011100011010011100010110001000101011000100010110101111101010110001011011000100011101011111110110000101101011101110110011111101010110011110000101011000110111011010010011010011100011111100100010111110000111011101111011011101111001101000011010110001111110010111100101010111101010001100011100111100011011000111011001111000010011001101010001011110011110101011000111101001101001000110100100110110100100101001100111001011101010110'"
      ]
     },
     "execution_count": 13,
     "metadata": {},
     "output_type": "execute_result"
    }
   ],
   "source": [
    "prefix1, code1, tree1, freq1 = get_prefix(Hamlet) # Get the prefix code the tree and frequencies for the first text\n",
    "prefix1"
   ]
  },
  {
   "cell_type": "code",
   "execution_count": 14,
   "metadata": {
    "scrolled": false
   },
   "outputs": [
    {
     "data": {
      "text/plain": [
       "'o all you host of heaven! o earth! what else? and shall i couple hell? oh, fie! hold, hold, my heart, and you, my sinews, grow not instant old, but bear me stiffly up. remember thee! ay, thou poor ghost, whiles memory holds a seat in this distracted globe. remember thee! yea, from the table of my memory i’ll wipe away all trivial fond records, all saws of books, all forms, all pressures past that youth and observation copied there, and thy commandment all alone shall live within the book and volume of my brain, unmixed with baser matter. yes, by heaven! o most pernicious woman! o villain, villain, smiling, damned villain! my tables! meet it is i set it down that one may smile, and smile, and be a villain. at least i’m sure it may be so in denmark. so, uncle, there you are. now to my word.'"
      ]
     },
     "execution_count": 14,
     "metadata": {},
     "output_type": "execute_result"
    }
   ],
   "source": [
    "get_T(prefix1, tree1) # Decode the first input text"
   ]
  },
  {
   "cell_type": "code",
   "execution_count": 15,
   "metadata": {},
   "outputs": [],
   "source": [
    "table1 = pd.concat([pd.Series(code1), pd.Series(freq1)], axis=1, sort= True) \n",
    "table1.columns = ['Code', 'Frequency'] # Preparation for the final overview table "
   ]
  },
  {
   "cell_type": "code",
   "execution_count": 16,
   "metadata": {},
   "outputs": [],
   "source": [
    "# Second input text\n",
    "Faust = \"Habe nun, ach! Philosophie, Juristerei und Medizin, Und leider auch Theologie Durchaus studiert, mit \\\n",
    "heissem Bemühn. Da steh ich nun, ich armer Tor! Und bin so klug als wie zuvor; Heisse Magister, heisse Doktor \\\n",
    "gar Und ziehe schon an die zehen Jahr Herauf, herab und quer und krumm Meine Schüler an der Nase herum Und sehe, \\\n",
    "dass wir nichts wissen können! Das will mir schier das Herz verbrennen. Zwar bin ich gescheiter als all die Laffen, \\\n",
    "Doktoren, Magister, Schreiber und Pfaffen; Mich plagen keine Skrupel noch Zweifel, Fürchte mich weder vor Hölle \\\n",
    "noch Teufel Dafür ist mir auch alle Freud entrissen, Bilde mir nicht ein, was Rechts zu wissen, Bilde mir nicht \\\n",
    "ein, ich könnte was lehren, Die Menschen zu bessern und zu bekehren. Auch hab ich weder Gut noch Geld, Noch Ehr \\\n",
    "und Herrlichkeit der Welt; Es möchte kein Hund so länger leben! Drum hab ich mich der Magie ergeben, Ob mir durch \\\n",
    "Geistes Kraft und Mund Nicht manch Geheimnis würde kund; Dass ich nicht mehr mit saurem Schweiss Zu sagen brauche, \\\n",
    "was ich nicht weiss; Dass ich erkenne, was die Welt Im Innersten zusammenhält, Schau alle Wirkenskraft und Samen, \\\n",
    "Und tu nicht mehr in Worten kramen.\""
   ]
  },
  {
   "cell_type": "code",
   "execution_count": 17,
   "metadata": {
    "scrolled": false
   },
   "outputs": [
    {
     "data": {
      "text/plain": [
       "'1000000101101001011110110000101111010111100011100110000010110111111010000100010100110011000000111100001101000010001010010110101111110100110000001111010001110011010011101010101110000101111011111100100101101110100010001010101111010111100001011110111110110001010101101101001111110001000011001100011110011100001011000001100110000001010101001011111011000001111100110000001000000111110011100110000110111010010011110011110101111100101010100111111000010101000110011010100101110110100101001011010010100010110010111011111011000111100111001101010001111010110011000111101100001011110101111101011001100011100010111100100100111111100111100000111001011011110000101111011111011010101010111110011110000111011011011000000001010111000101100001111111000110100101110010000000110100111110000011111010001111100001010100011001101011110010000100101010100011100110100111110101111100001010100011001101011111011110000011011100111100000111111001010000101111110000101111011111001000101001010000101110011110011000110000101111100011011111110111010010111001000010100001010111111101001100001100001111111000010011100010000001001110101111100001001110001011010111000010111101111100101100000000100111111000010111101111101101101110000100101001011110010010101010110101110011110011000110100100110001001111110001101111111011010011111110110001001101011110000100111000010010111000010111101111100110101000010110101111110110001001100111111100011010011111110111010110011000100110011111110001101000110011010101111101101100101111101110110101011001011011111101100010011111110001101001100011001111001010100111111001111001100010100100111111110110001001111110000100111001000111110100111010011101101001110101011101101010110010111011100100011000100010111111011010101010111111010110011000111001010010001111001100001010101001101001111110001011000011111000101100011001111101110100101110110000010010010010010101011110101111110111100000110111001111000001110101011110101111100100001001010101000111001101001111101011110011110011000011101010100110100100111111000010111101111111010000001001000100100100100101010111101000111110010101011001100011111010000011000001001010010101111101101101010101011010111001101101101110000110100000100110011110111100001100110001110010001100010101010001001010011001101011110010011101001001111100110001001101011110010101011001100011111000101011011010011111111010011111000001111111000001011110110001100010111101111000011001100011110011010000000100101001100111110110001001001110100100111111101000111001111110010101001111110001000011001100011100010110001100010111001001011101000001101111101010111001101111010001100110101011110101111011010101001100110110101111001010100111111101110101100110001001111101010101011110101111110001000100111110111010110011000100110011111001000000011111000110100011001101010111101011110110101010011001101101011110010101001111111011101011001100010011111010101010111101011111010110011000111011011001011111011101110011010111110001000100111110110001010000111010101111010111111011101001011110010010101100111100110000101011111001000000011101101001000110011010011110111110000101111011111001000000011101101001001101101010000111010101100101110111000100001100110001111000000101101011110101100110001111100010101101101001111110010100000100111111011110000110011000111001010010011001101111010111110111100001100110001110101000011111100001011110111111000010011101110110010101100110000110110101010100111111101101001111111100010100110010011110100011110100011111100100010111111001100010011010111011011010101010111111000000010111101111100111100001110110000101100110110010100100111111011000100110100101011001011011111101101110000100101111000000101101011110101100110001111001010101100110001111101101001111111001000010010101010010111010011100101001001101001010111101011111100000110101111001010100111111110110000011111001100011100101001010100011100110100011111011011011100010010011001111100001011110111111001000001011110111111011101011001100010011111100100001101111001100011100101001010000101010100101011101000111111100011101001001111101101011101101100001011110111101000111111011000100110011111101011001100011110111010110011000100111111001001010000111111100101010100111110011000100000111010100101110011110011000110001010101000110011111001000000011100110001001010010101111101101001110001000011001100001011010111111000100010011111101011001100011110111010110011000100111111100010101010001100111101000111111011000100110011111101011001100011101001110110110101011101101011010111111000100010011111110111010010111110001010011001001111110101001011110101011101101001110011100110101011111001000000000110001100101001001010111000001011001011001001111010111100111100110000001000011100010110001100010111110001101001110110110101011001101101101110001001001100111110000101111011111001100011001001010111101011110000101111011111100110000111101110101100110001001111110010010100001111111010101111111000111000001111001101010111110110110111000110010010101100101110'"
      ]
     },
     "execution_count": 17,
     "metadata": {},
     "output_type": "execute_result"
    }
   ],
   "source": [
    "prefix2, code2, tree2, freq2 = get_prefix(Faust) # Get the prefix code the tree and frequencies for the second text\n",
    "prefix2"
   ]
  },
  {
   "cell_type": "code",
   "execution_count": 18,
   "metadata": {},
   "outputs": [
    {
     "data": {
      "text/plain": [
       "'habe nun, ach! philosophie, juristerei und medizin, und leider auch theologie durchaus studiert, mit heissem bemühn. da steh ich nun, ich armer tor! und bin so klug als wie zuvor; heisse magister, heisse doktor gar und ziehe schon an die zehen jahr herauf, herab und quer und krumm meine schüler an der nase herum und sehe, dass wir nichts wissen können! das will mir schier das herz verbrennen. zwar bin ich gescheiter als all die laffen, doktoren, magister, schreiber und pfaffen; mich plagen keine skrupel noch zweifel, fürchte mich weder vor hölle noch teufel dafür ist mir auch alle freud entrissen, bilde mir nicht ein, was rechts zu wissen, bilde mir nicht ein, ich könnte was lehren, die menschen zu bessern und zu bekehren. auch hab ich weder gut noch geld, noch ehr und herrlichkeit der welt; es möchte kein hund so länger leben! drum hab ich mich der magie ergeben, ob mir durch geistes kraft und mund nicht manch geheimnis würde kund; dass ich nicht mehr mit saurem schweiss zu sagen brauche, was ich nicht weiss; dass ich erkenne, was die welt im innersten zusammenhält, schau alle wirkenskraft und samen, und tu nicht mehr in worten kramen.'"
      ]
     },
     "execution_count": 18,
     "metadata": {},
     "output_type": "execute_result"
    }
   ],
   "source": [
    "get_T(prefix2, tree2) # Decode the second input text"
   ]
  },
  {
   "cell_type": "code",
   "execution_count": 19,
   "metadata": {},
   "outputs": [],
   "source": [
    "table2 = pd.concat([pd.Series(code2), pd.Series(freq2)], axis=1, sort=True)\n",
    "table2.columns = ['Code', 'Frequency'] # Preparation for the final overview table "
   ]
  },
  {
   "cell_type": "code",
   "execution_count": 20,
   "metadata": {
    "scrolled": false
   },
   "outputs": [
    {
     "data": {
      "text/html": [
       "<div>\n",
       "<style scoped>\n",
       "    .dataframe tbody tr th:only-of-type {\n",
       "        vertical-align: middle;\n",
       "    }\n",
       "\n",
       "    .dataframe tbody tr th {\n",
       "        vertical-align: top;\n",
       "    }\n",
       "\n",
       "    .dataframe thead th {\n",
       "        text-align: right;\n",
       "    }\n",
       "</style>\n",
       "<table border=\"1\" class=\"dataframe\">\n",
       "  <thead>\n",
       "    <tr style=\"text-align: right;\">\n",
       "      <th></th>\n",
       "      <th>Code_Hamlet</th>\n",
       "      <th>Frequency_Hamlet</th>\n",
       "      <th>Code_Faust</th>\n",
       "      <th>Frequency_Faust</th>\n",
       "      <th>Regular Binary</th>\n",
       "      <th>Both Codes &lt; Binary</th>\n",
       "    </tr>\n",
       "  </thead>\n",
       "  <tbody>\n",
       "    <tr>\n",
       "      <th></th>\n",
       "      <td>00</td>\n",
       "      <td>149.0</td>\n",
       "      <td>111</td>\n",
       "      <td>197.0</td>\n",
       "      <td>100000</td>\n",
       "      <td>True</td>\n",
       "    </tr>\n",
       "    <tr>\n",
       "      <th>e</th>\n",
       "      <td>1110</td>\n",
       "      <td>68.0</td>\n",
       "      <td>010</td>\n",
       "      <td>131.0</td>\n",
       "      <td>1100101</td>\n",
       "      <td>True</td>\n",
       "    </tr>\n",
       "    <tr>\n",
       "      <th>a</th>\n",
       "      <td>1011</td>\n",
       "      <td>55.0</td>\n",
       "      <td>0001</td>\n",
       "      <td>49.0</td>\n",
       "      <td>1100001</td>\n",
       "      <td>True</td>\n",
       "    </tr>\n",
       "    <tr>\n",
       "      <th>o</th>\n",
       "      <td>1001</td>\n",
       "      <td>52.0</td>\n",
       "      <td>110000</td>\n",
       "      <td>20.0</td>\n",
       "      <td>1101111</td>\n",
       "      <td>True</td>\n",
       "    </tr>\n",
       "    <tr>\n",
       "      <th>l</th>\n",
       "      <td>1000</td>\n",
       "      <td>48.0</td>\n",
       "      <td>01100</td>\n",
       "      <td>32.0</td>\n",
       "      <td>1101100</td>\n",
       "      <td>True</td>\n",
       "    </tr>\n",
       "    <tr>\n",
       "      <th>t</th>\n",
       "      <td>0110</td>\n",
       "      <td>46.0</td>\n",
       "      <td>10011</td>\n",
       "      <td>38.0</td>\n",
       "      <td>1110100</td>\n",
       "      <td>True</td>\n",
       "    </tr>\n",
       "    <tr>\n",
       "      <th>i</th>\n",
       "      <td>0101</td>\n",
       "      <td>42.0</td>\n",
       "      <td>1010</td>\n",
       "      <td>77.0</td>\n",
       "      <td>1101001</td>\n",
       "      <td>True</td>\n",
       "    </tr>\n",
       "    <tr>\n",
       "      <th>s</th>\n",
       "      <td>11111</td>\n",
       "      <td>38.0</td>\n",
       "      <td>0011</td>\n",
       "      <td>65.0</td>\n",
       "      <td>1110011</td>\n",
       "      <td>True</td>\n",
       "    </tr>\n",
       "    <tr>\n",
       "      <th>n</th>\n",
       "      <td>11110</td>\n",
       "      <td>36.0</td>\n",
       "      <td>1011</td>\n",
       "      <td>83.0</td>\n",
       "      <td>1101110</td>\n",
       "      <td>True</td>\n",
       "    </tr>\n",
       "    <tr>\n",
       "      <th>m</th>\n",
       "      <td>11011</td>\n",
       "      <td>34.0</td>\n",
       "      <td>10010</td>\n",
       "      <td>35.0</td>\n",
       "      <td>1101101</td>\n",
       "      <td>True</td>\n",
       "    </tr>\n",
       "    <tr>\n",
       "      <th>r</th>\n",
       "      <td>11001</td>\n",
       "      <td>30.0</td>\n",
       "      <td>0111</td>\n",
       "      <td>69.0</td>\n",
       "      <td>1110010</td>\n",
       "      <td>True</td>\n",
       "    </tr>\n",
       "    <tr>\n",
       "      <th>h</th>\n",
       "      <td>11000</td>\n",
       "      <td>29.0</td>\n",
       "      <td>1000</td>\n",
       "      <td>72.0</td>\n",
       "      <td>1101000</td>\n",
       "      <td>True</td>\n",
       "    </tr>\n",
       "    <tr>\n",
       "      <th>d</th>\n",
       "      <td>01110</td>\n",
       "      <td>23.0</td>\n",
       "      <td>11011</td>\n",
       "      <td>45.0</td>\n",
       "      <td>1100100</td>\n",
       "      <td>True</td>\n",
       "    </tr>\n",
       "    <tr>\n",
       "      <th>,</th>\n",
       "      <td>01111</td>\n",
       "      <td>23.0</td>\n",
       "      <td>110101</td>\n",
       "      <td>23.0</td>\n",
       "      <td>101100</td>\n",
       "      <td>True</td>\n",
       "    </tr>\n",
       "    <tr>\n",
       "      <th>y</th>\n",
       "      <td>01001</td>\n",
       "      <td>21.0</td>\n",
       "      <td>NaN</td>\n",
       "      <td>NaN</td>\n",
       "      <td>1111001</td>\n",
       "      <td>True</td>\n",
       "    </tr>\n",
       "    <tr>\n",
       "      <th>b</th>\n",
       "      <td>110100</td>\n",
       "      <td>15.0</td>\n",
       "      <td>011010</td>\n",
       "      <td>17.0</td>\n",
       "      <td>1100010</td>\n",
       "      <td>True</td>\n",
       "    </tr>\n",
       "    <tr>\n",
       "      <th>u</th>\n",
       "      <td>101010</td>\n",
       "      <td>14.0</td>\n",
       "      <td>0000</td>\n",
       "      <td>46.0</td>\n",
       "      <td>1110101</td>\n",
       "      <td>True</td>\n",
       "    </tr>\n",
       "    <tr>\n",
       "      <th>w</th>\n",
       "      <td>101001</td>\n",
       "      <td>13.0</td>\n",
       "      <td>110001</td>\n",
       "      <td>20.0</td>\n",
       "      <td>1110111</td>\n",
       "      <td>True</td>\n",
       "    </tr>\n",
       "    <tr>\n",
       "      <th>f</th>\n",
       "      <td>010000</td>\n",
       "      <td>10.0</td>\n",
       "      <td>001001</td>\n",
       "      <td>13.0</td>\n",
       "      <td>1100110</td>\n",
       "      <td>True</td>\n",
       "    </tr>\n",
       "    <tr>\n",
       "      <th>v</th>\n",
       "      <td>010001</td>\n",
       "      <td>10.0</td>\n",
       "      <td>110100111</td>\n",
       "      <td>3.0</td>\n",
       "      <td>1110110</td>\n",
       "      <td>False</td>\n",
       "    </tr>\n",
       "    <tr>\n",
       "      <th>!</th>\n",
       "      <td>1101011</td>\n",
       "      <td>9.0</td>\n",
       "      <td>00101101</td>\n",
       "      <td>4.0</td>\n",
       "      <td>100001</td>\n",
       "      <td>False</td>\n",
       "    </tr>\n",
       "    <tr>\n",
       "      <th>p</th>\n",
       "      <td>1101010</td>\n",
       "      <td>8.0</td>\n",
       "      <td>11010000</td>\n",
       "      <td>5.0</td>\n",
       "      <td>1110000</td>\n",
       "      <td>False</td>\n",
       "    </tr>\n",
       "    <tr>\n",
       "      <th>c</th>\n",
       "      <td>1010001</td>\n",
       "      <td>7.0</td>\n",
       "      <td>11001</td>\n",
       "      <td>43.0</td>\n",
       "      <td>1100011</td>\n",
       "      <td>True</td>\n",
       "    </tr>\n",
       "    <tr>\n",
       "      <th>.</th>\n",
       "      <td>1010110</td>\n",
       "      <td>7.0</td>\n",
       "      <td>00101110</td>\n",
       "      <td>4.0</td>\n",
       "      <td>101110</td>\n",
       "      <td>False</td>\n",
       "    </tr>\n",
       "    <tr>\n",
       "      <th>g</th>\n",
       "      <td>10101111</td>\n",
       "      <td>4.0</td>\n",
       "      <td>001010</td>\n",
       "      <td>15.0</td>\n",
       "      <td>1100111</td>\n",
       "      <td>False</td>\n",
       "    </tr>\n",
       "    <tr>\n",
       "      <th>k</th>\n",
       "      <td>10100001</td>\n",
       "      <td>3.0</td>\n",
       "      <td>011011</td>\n",
       "      <td>17.0</td>\n",
       "      <td>1101011</td>\n",
       "      <td>False</td>\n",
       "    </tr>\n",
       "    <tr>\n",
       "      <th>?</th>\n",
       "      <td>10100000</td>\n",
       "      <td>2.0</td>\n",
       "      <td>NaN</td>\n",
       "      <td>NaN</td>\n",
       "      <td>111111</td>\n",
       "      <td>False</td>\n",
       "    </tr>\n",
       "    <tr>\n",
       "      <th>’</th>\n",
       "      <td>101011101</td>\n",
       "      <td>2.0</td>\n",
       "      <td>NaN</td>\n",
       "      <td>NaN</td>\n",
       "      <td>10000000011001</td>\n",
       "      <td>True</td>\n",
       "    </tr>\n",
       "    <tr>\n",
       "      <th>x</th>\n",
       "      <td>101011100</td>\n",
       "      <td>1.0</td>\n",
       "      <td>NaN</td>\n",
       "      <td>NaN</td>\n",
       "      <td>1111000</td>\n",
       "      <td>False</td>\n",
       "    </tr>\n",
       "    <tr>\n",
       "      <th>;</th>\n",
       "      <td>NaN</td>\n",
       "      <td>NaN</td>\n",
       "      <td>11010001</td>\n",
       "      <td>5.0</td>\n",
       "      <td>111011</td>\n",
       "      <td>False</td>\n",
       "    </tr>\n",
       "    <tr>\n",
       "      <th>j</th>\n",
       "      <td>NaN</td>\n",
       "      <td>NaN</td>\n",
       "      <td>110100110</td>\n",
       "      <td>2.0</td>\n",
       "      <td>1101010</td>\n",
       "      <td>False</td>\n",
       "    </tr>\n",
       "    <tr>\n",
       "      <th>q</th>\n",
       "      <td>NaN</td>\n",
       "      <td>NaN</td>\n",
       "      <td>001011000</td>\n",
       "      <td>1.0</td>\n",
       "      <td>1110001</td>\n",
       "      <td>False</td>\n",
       "    </tr>\n",
       "    <tr>\n",
       "      <th>z</th>\n",
       "      <td>NaN</td>\n",
       "      <td>NaN</td>\n",
       "      <td>001000</td>\n",
       "      <td>12.0</td>\n",
       "      <td>1111010</td>\n",
       "      <td>True</td>\n",
       "    </tr>\n",
       "    <tr>\n",
       "      <th>ä</th>\n",
       "      <td>NaN</td>\n",
       "      <td>NaN</td>\n",
       "      <td>001011001</td>\n",
       "      <td>2.0</td>\n",
       "      <td>11100100</td>\n",
       "      <td>False</td>\n",
       "    </tr>\n",
       "    <tr>\n",
       "      <th>ö</th>\n",
       "      <td>NaN</td>\n",
       "      <td>NaN</td>\n",
       "      <td>00101111</td>\n",
       "      <td>4.0</td>\n",
       "      <td>11110110</td>\n",
       "      <td>True</td>\n",
       "    </tr>\n",
       "    <tr>\n",
       "      <th>ü</th>\n",
       "      <td>NaN</td>\n",
       "      <td>NaN</td>\n",
       "      <td>11010010</td>\n",
       "      <td>5.0</td>\n",
       "      <td>11111100</td>\n",
       "      <td>True</td>\n",
       "    </tr>\n",
       "  </tbody>\n",
       "</table>\n",
       "</div>"
      ],
      "text/plain": [
       "  Code_Hamlet  Frequency_Hamlet Code_Faust  Frequency_Faust  Regular Binary  \\\n",
       "           00             149.0        111            197.0          100000   \n",
       "e        1110              68.0        010            131.0         1100101   \n",
       "a        1011              55.0       0001             49.0         1100001   \n",
       "o        1001              52.0     110000             20.0         1101111   \n",
       "l        1000              48.0      01100             32.0         1101100   \n",
       "t        0110              46.0      10011             38.0         1110100   \n",
       "i        0101              42.0       1010             77.0         1101001   \n",
       "s       11111              38.0       0011             65.0         1110011   \n",
       "n       11110              36.0       1011             83.0         1101110   \n",
       "m       11011              34.0      10010             35.0         1101101   \n",
       "r       11001              30.0       0111             69.0         1110010   \n",
       "h       11000              29.0       1000             72.0         1101000   \n",
       "d       01110              23.0      11011             45.0         1100100   \n",
       ",       01111              23.0     110101             23.0          101100   \n",
       "y       01001              21.0        NaN              NaN         1111001   \n",
       "b      110100              15.0     011010             17.0         1100010   \n",
       "u      101010              14.0       0000             46.0         1110101   \n",
       "w      101001              13.0     110001             20.0         1110111   \n",
       "f      010000              10.0     001001             13.0         1100110   \n",
       "v      010001              10.0  110100111              3.0         1110110   \n",
       "!     1101011               9.0   00101101              4.0          100001   \n",
       "p     1101010               8.0   11010000              5.0         1110000   \n",
       "c     1010001               7.0      11001             43.0         1100011   \n",
       ".     1010110               7.0   00101110              4.0          101110   \n",
       "g    10101111               4.0     001010             15.0         1100111   \n",
       "k    10100001               3.0     011011             17.0         1101011   \n",
       "?    10100000               2.0        NaN              NaN          111111   \n",
       "’   101011101               2.0        NaN              NaN  10000000011001   \n",
       "x   101011100               1.0        NaN              NaN         1111000   \n",
       ";         NaN               NaN   11010001              5.0          111011   \n",
       "j         NaN               NaN  110100110              2.0         1101010   \n",
       "q         NaN               NaN  001011000              1.0         1110001   \n",
       "z         NaN               NaN     001000             12.0         1111010   \n",
       "ä         NaN               NaN  001011001              2.0        11100100   \n",
       "ö         NaN               NaN   00101111              4.0        11110110   \n",
       "ü         NaN               NaN   11010010              5.0        11111100   \n",
       "\n",
       "   Both Codes < Binary  \n",
       "                  True  \n",
       "e                 True  \n",
       "a                 True  \n",
       "o                 True  \n",
       "l                 True  \n",
       "t                 True  \n",
       "i                 True  \n",
       "s                 True  \n",
       "n                 True  \n",
       "m                 True  \n",
       "r                 True  \n",
       "h                 True  \n",
       "d                 True  \n",
       ",                 True  \n",
       "y                 True  \n",
       "b                 True  \n",
       "u                 True  \n",
       "w                 True  \n",
       "f                 True  \n",
       "v                False  \n",
       "!                False  \n",
       "p                False  \n",
       "c                 True  \n",
       ".                False  \n",
       "g                False  \n",
       "k                False  \n",
       "?                False  \n",
       "’                 True  \n",
       "x                False  \n",
       ";                False  \n",
       "j                False  \n",
       "q                False  \n",
       "z                 True  \n",
       "ä                False  \n",
       "ö                 True  \n",
       "ü                 True  "
      ]
     },
     "execution_count": 20,
     "metadata": {},
     "output_type": "execute_result"
    }
   ],
   "source": [
    "# Create table for an overview over |c(x)|, frequencies and a comparision to the regular binary representation\n",
    "table = pd.merge(table1, table2, how='outer', left_index=True, right_index=True, sort=True, \n",
    "                 suffixes=('_Hamlet', '_Faust'), copy=True)\n",
    "table['Regular Binary'] = table.index.map(lambda x: ''.join(format(ord(x), 'b')))\n",
    "table['Both Codes < Binary'] = table.apply(lambda row: (len(str(row['Code_Hamlet'])) <= \n",
    "                                                        len(str(row['Regular Binary'])) and \n",
    "                                                  len(str(row['Code_Faust'])) <= \n",
    "                                                        len(str(row['Regular Binary']))), axis=1)\n",
    "table.sort_values('Frequency_Hamlet', ascending=False)"
   ]
  },
  {
   "cell_type": "code",
   "execution_count": 21,
   "metadata": {},
   "outputs": [
    {
     "name": "stdout",
     "output_type": "stream",
     "text": [
      "0.6241089613034623\n",
      "0.6276536828502861\n"
     ]
    }
   ],
   "source": [
    "# Calculating C for different variations and cross-check results\n",
    "print(np.nansum(table.apply(lambda row: (len(str(row['Code_Faust'])) * row['Frequency_Faust']), axis=1)) / \\\n",
    "np.nansum(table.apply(lambda row: (len(str(row['Regular Binary'])) * row['Frequency_Faust']), axis=1)))\n",
    "print(np.nansum(table.apply(lambda row: (len(str(row['Code_Hamlet'])) * row['Frequency_Hamlet']), axis=1)) / \\\n",
    "np.nansum(table.apply(lambda row: (len(str(row['Regular Binary'])) * row['Frequency_Hamlet']), axis=1)))"
   ]
  },
  {
   "cell_type": "markdown",
   "metadata": {},
   "source": [
    "### Brief comment on the results\n",
    "At first glance, our results show that almost all individual letters have a simpler binary representation than the standard notation. This is especially true for the most used letters and is an indicator that our implementation of the Huffman coding produces compressed data without any loss of information. In the next step we have a more formal validation of the observed results.\n",
    "\n",
    "A prefix code is optimal if the following defined C is minimal among all prefix codes:\n",
    "\n",
    "$$ C = \\sum _ { x \\in A_H } f _ { x } | c ( x ) | $$\n",
    "\n",
    "Here, we can calculate $C_{Hamlet_p}$ for the prefix code of the first input text and $C_{Faust_p}$ for the prefix code of the second input text with the following results: \n",
    "\n",
    "$$ C_{Hamlet_p} = 3,400 \\quad \\textrm{and} \\quad C_{Faust_p} = 4,903 $$\n",
    "\n",
    "According to our proof of corectness these values for C must be minimal. We can quickly check against the standard binary representation of characters and we obtain the following: \n",
    "\n",
    "$$ C_{Hamlet_s} = 5,417 \\quad \\textrm{and} \\quad C_{Faust_s} = 7,856 $$\n",
    "\n",
    "In both cases we could reduce the number of bits required to store the texts by 37 %."
   ]
  }
 ],
 "metadata": {
  "kernelspec": {
   "display_name": "Python 3",
   "language": "python",
   "name": "python3"
  },
  "language_info": {
   "codemirror_mode": {
    "name": "ipython",
    "version": 3
   },
   "file_extension": ".py",
   "mimetype": "text/x-python",
   "name": "python",
   "nbconvert_exporter": "python",
   "pygments_lexer": "ipython3",
   "version": "3.6.5"
  }
 },
 "nbformat": 4,
 "nbformat_minor": 2
}
